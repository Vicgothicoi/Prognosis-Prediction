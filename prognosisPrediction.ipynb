{
 "cells": [
  {
   "cell_type": "code",
   "execution_count": 1,
   "metadata": {},
   "outputs": [
    {
     "data": {
      "text/plain": [
       "(372, 36)"
      ]
     },
     "execution_count": 1,
     "metadata": {},
     "output_type": "execute_result"
    }
   ],
   "source": [
    "import numpy as np\n",
    "import pandas as pd\n",
    "data=pd.read_excel(\"Trimed data.xlsx\")\n",
    "data.shape"
   ]
  },
  {
   "cell_type": "code",
   "execution_count": 2,
   "metadata": {},
   "outputs": [],
   "source": [
    "Y=data.values[:,-5]\n",
    "Y[Y == 0] = 1 #对生存期等于0的患者进行修改，否则会导致计算误差时数值溢出\n",
    "X=np.delete(data.values,-5,axis=1)"
   ]
  },
  {
   "cell_type": "code",
   "execution_count": 3,
   "metadata": {},
   "outputs": [
    {
     "data": {
      "text/plain": [
       "([31, 32, 33, 24, 29, 28, 27, 0, 16, 26],\n",
       " [10, 27, 34, 12, 1, 19, 6, 28, 7, 3],\n",
       " [10, 27, 34, 1, 12, 19, 6, 3, 7, 29],\n",
       " [20, 24, 33, 31, 0, 0, 0, 0, 0, 0],\n",
       " [15, 7, 25, 2, 18, 9, 21, 6, 31, 16],\n",
       " [31, 32, 33, 20, 13, 18, 24, 26, 2, 9])"
      ]
     },
     "execution_count": 3,
     "metadata": {},
     "output_type": "execute_result"
    }
   ],
   "source": [
    "from featureSelection import *\n",
    "symbol1=MIC(X,Y)\n",
    "symbol2=Lr_reg(X,Y)\n",
    "symbol3=ridge(X,Y)\n",
    "symbol4=lasso(X,Y)\n",
    "symbol5=rfe(X,Y)\n",
    "symbol6=rf(X,Y)\n",
    "\n",
    "symbol1,symbol2,symbol3,symbol4,symbol5,symbol6"
   ]
  },
  {
   "cell_type": "code",
   "execution_count": 4,
   "metadata": {},
   "outputs": [
    {
     "data": {
      "text/plain": [
       "Index(['总费用', '自费费用', '日均费用', '收缩压', '入院方式', '血压', '舒张压分类', '机构号',\n",
       "       '入院意识状态原始分类', '舒张压'],\n",
       "      dtype='object')"
      ]
     },
     "execution_count": 4,
     "metadata": {},
     "output_type": "execute_result"
    }
   ],
   "source": [
    "#特征选择\n",
    "newX=X[:,symbol1[0:5]]\n",
    "data.drop('住院天数',axis=1).columns[symbol1]"
   ]
  },
  {
   "cell_type": "code",
   "execution_count": 5,
   "metadata": {},
   "outputs": [
    {
     "name": "stdout",
     "output_type": "stream",
     "text": [
      "绝对值百分比误差： 0.12233101559016703\n",
      "R2 score:  0.9271237156100183\n"
     ]
    }
   ],
   "source": [
    "from regModel import *\n",
    "XGboost(newX,Y)"
   ]
  },
  {
   "cell_type": "code",
   "execution_count": 6,
   "metadata": {},
   "outputs": [
    {
     "name": "stderr",
     "output_type": "stream",
     "text": [
      "ntree_limit is deprecated, use `iteration_range` or model slicing instead.\n"
     ]
    },
    {
     "data": {
      "image/png": "[encoded data removed]",
      "text/plain": [
       "<Figure size 576x252 with 1 Axes>"
      ]
     },
     "metadata": {
      "needs_background": "light"
     },
     "output_type": "display_data"
    },
    {
     "name": "stdout",
     "output_type": "stream",
     "text": [
      "混淆矩阵:\n",
      "[[27  0  0  0  0]\n",
      " [ 1 13  4  0  0]\n",
      " [ 0  0 24  0  0]\n",
      " [ 0  0  2 29  0]\n",
      " [ 0  0  0  1 11]]\n",
      "准确性 (Accuracy): 0.9285714285714286\n",
      "精确率 (Precision): 0.9461904761904762\n",
      "召回率 (Recall): 0.9148745519713263\n",
      "F1 值 (F1 Score): 0.9233516318776015\n",
      "测试集真实标签： [2 2 0 1 3 4 3 2 2 4 4 0 0 2 2 0 3 1 3 3 1 2 0 2 3 0 3 0 3 1 3 1 2 2 1 0 3\n",
      " 4 0 0 4 3 4 3 1 1 3 3 0 2 0 0 3 2 0 0 0 3 0 2 4 0 4 3 3 3 0 3 1 2 2 1 2 0\n",
      " 0 1 3 3 3 3 2 0 3 4 1 0 2 0 1 1 2 2 4 3 3 3 1 3 1 2 2 2 0 1 4 2 3 0 1 4 0\n",
      " 3]\n",
      "预测标签： [2 2 0 2 3 4 2 2 2 4 4 0 0 2 2 0 3 2 3 3 2 2 0 2 3 0 3 0 3 1 3 1 2 2 1 0 3\n",
      " 4 0 0 4 2 4 3 1 1 3 3 0 2 0 0 3 2 0 0 0 3 0 2 4 0 4 3 3 3 0 3 1 2 2 1 2 0\n",
      " 0 1 3 3 3 3 2 0 3 4 0 0 2 0 1 1 2 2 4 3 3 3 2 3 1 2 2 2 0 1 3 2 3 0 1 4 0\n",
      " 3]\n"
     ]
    }
   ],
   "source": [
    "import warnings\n",
    "warnings.filterwarnings(\"ignore\", message=\".*The 'nopython' keyword.*\")\n",
    "from classifyModel import *\n",
    "XGboostClassifier(newX,Y)\n",
    "#用SHAP衡量特征对最终输出值的影响"
   ]
  }
 ],
 "metadata": {
  "kernelspec": {
   "display_name": "Python 3",
   "language": "python",
   "name": "python3"
  },
  "language_info": {
   "codemirror_mode": {
    "name": "ipython",
    "version": 3
   },
   "file_extension": ".py",
   "mimetype": "text/x-python",
   "name": "python",
   "nbconvert_exporter": "python",
   "pygments_lexer": "ipython3",
   "version": "3.10.5"
  },
  "orig_nbformat": 4
 },
 "nbformat": 4,
 "nbformat_minor": 2
}
